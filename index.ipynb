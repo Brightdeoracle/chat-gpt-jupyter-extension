{
 "cells": [
  {
   "cell_type": "markdown",
   "id": "e1b8243f",
   "metadata": {},
   "source": [
    "# Sample prompts\n",
    "\n",
    "This notebook contains some experiments in asking ChatGPT to write Python programs. The prompts right now are hard-coded into each chat cell, but in the future will be refactored into prompt definition cells that will be used to generate prompts for different scenarios."
   ]
  },
  {
   "cell_type": "markdown",
   "id": "6144aff6",
   "metadata": {
    "chatgpt_cell": "query",
    "chatgpt_language": "python",
    "chatgpt_thread": ""
   },
   "source": [
    "##### chat\n",
    "\n",
    "In your reply, only return Python code. Don't provide descriptions or comments. Write a Python program that:\n",
    "\n",
    "Calculates the number of horizontal degrees that an object occupies in your field of view if you know the width of the object and its distance from you. Make sure you return the width in degrees. "
   ]
  },
  {
   "cell_type": "markdown",
   "id": "b6a7c3d6",
   "metadata": {},
   "source": [
    "##### response generated  by ChatGPT in 3 seconds at 1/4/2023 7:58:56 PM\n",
    "```python\n",
    "import math\n",
    "def calculate_horizontal_degrees(width, distance):\n",
    "    return math.degrees(math.atan(width/distance))\n",
    "```"
   ]
  },
  {
   "cell_type": "code",
   "execution_count": 3,
   "id": "09540acf",
   "metadata": {
    "chatgpt_cell": "code",
    "chatgpt_language": "python",
    "chatgpt_thread": ""
   },
   "outputs": [],
   "source": [
    "import math\n",
    "def calculate_horizontal_degrees(width, distance):\n",
    "    return math.degrees(math.atan(width/distance))"
   ]
  },
  {
   "cell_type": "code",
   "execution_count": 4,
   "id": "f75213ef",
   "metadata": {},
   "outputs": [
    {
     "data": {
      "text/plain": [
       "40.60129464500447"
      ]
     },
     "execution_count": 4,
     "metadata": {},
     "output_type": "execute_result"
    }
   ],
   "source": [
    "calculate_horizontal_degrees(24, 28)"
   ]
  },
  {
   "cell_type": "markdown",
   "id": "02cd8e81",
   "metadata": {
    "chatgpt_cell": "query",
    "chatgpt_language": "python",
    "chatgpt_thread": ""
   },
   "source": [
    "##### chat\n",
    "\n",
    "In your reply, only return Python code. Don't provide descriptions or comments. If you generate a function, make sure you write the call to that function as well and print out the result of calling that function to the console. Write a Python program that:\n",
    "\n",
    "Calculate the volume of the planet earth."
   ]
  },
  {
   "cell_type": "markdown",
   "id": "4c2419e7",
   "metadata": {},
   "source": [
    "##### response generated  by ChatGPT in 5 seconds at 1/4/2023 8:01:46 PM\n",
    "```python\n",
    "import math\n",
    "def calculate_earth_volume():\n",
    "    radius = 6371.0 # km\n",
    "    volume = (4/3) * math.pi * radius**3\n",
    "    return volume\n",
    "print(calculate_earth_volume())\n",
    "```"
   ]
  },
  {
   "cell_type": "code",
   "execution_count": 5,
   "id": "facf8970",
   "metadata": {
    "chatgpt_cell": "code",
    "chatgpt_language": "python",
    "chatgpt_thread": ""
   },
   "outputs": [
    {
     "name": "stdout",
     "output_type": "stream",
     "text": [
      "1083206916845.7535\n"
     ]
    }
   ],
   "source": [
    "import math\n",
    "def calculate_earth_volume():\n",
    "    radius = 6371.0 # km\n",
    "    volume = (4/3) * math.pi * radius**3\n",
    "    return volume\n",
    "print(calculate_earth_volume())"
   ]
  },
  {
   "cell_type": "markdown",
   "id": "fa51f215",
   "metadata": {
    "chatgpt_cell": "query",
    "chatgpt_language": "python",
    "chatgpt_thread": ""
   },
   "source": [
    "##### chat\n",
    "\n",
    "In your reply, only return Python code. Don't provide descriptions or comments. If you generate a function, make sure you write the call to that function as well and print out the result of calling that function to the console. Write a Python program that solves:\n",
    "\n",
    "On his day off, Lee took a trip to the zoo. He drove an average speed of 65mph and it took him 2.5 hours to get from his house to the zoo. How far is the zoo from his house?"
   ]
  },
  {
   "cell_type": "markdown",
   "id": "25bca06d",
   "metadata": {},
   "source": [
    "##### response generated  by ChatGPT in 4 seconds at 1/4/2023 8:04:28 PM\n",
    "```python\n",
    "def distance_to_zoo(time, speed):\n",
    "    return time * speed\n",
    "print(distance_to_zoo(2.5, 65))\n",
    "```"
   ]
  },
  {
   "cell_type": "code",
   "execution_count": 6,
   "id": "05739140",
   "metadata": {
    "chatgpt_cell": "code",
    "chatgpt_language": "python",
    "chatgpt_thread": ""
   },
   "outputs": [
    {
     "name": "stdout",
     "output_type": "stream",
     "text": [
      "162.5\n"
     ]
    }
   ],
   "source": [
    "def distance_to_zoo(time, speed):\n",
    "    return time * speed\n",
    "print(distance_to_zoo(2.5, 65))"
   ]
  },
  {
   "cell_type": "markdown",
   "id": "65c4e8ea",
   "metadata": {
    "chatgpt_cell": "query",
    "chatgpt_language": "python",
    "chatgpt_thread": ""
   },
   "source": [
    "##### chat\n",
    "\n",
    "In your reply, only return Python code. Don't provide descriptions or comments. If you generate a function, make sure you write the call to that function as well and print out the result of calling that function to the console. Write a Python program that solves:\n",
    "\n",
    "Bill took a trip to see a friend. His friend lives 225 miles away. He drove in town at an average of 30 mph, then he drove on the interstate at an average of 70 mph. The trip took three-and-a-half hours total. How far did Bill drive on the interstate?"
   ]
  },
  {
   "cell_type": "markdown",
   "id": "0c0c32d5",
   "metadata": {},
   "source": [
    "##### response generated  by ChatGPT in 9 seconds at 1/4/2023 8:06:52 PM\n",
    "```python\n",
    "def distance_driven_on_interstate(total_distance, in_town_speed, total_time):\n",
    "    in_town_distance = in_town_speed * total_time\n",
    "    interstate_distance = total_distance - in_town_distance\n",
    "    return interstate_distance\n",
    "print(distance_driven_on_interstate(225, 30, 3.5))\n",
    "```"
   ]
  },
  {
   "cell_type": "code",
   "execution_count": 7,
   "id": "6c1a123c",
   "metadata": {
    "chatgpt_cell": "code",
    "chatgpt_language": "python",
    "chatgpt_thread": ""
   },
   "outputs": [
    {
     "name": "stdout",
     "output_type": "stream",
     "text": [
      "120.0\n"
     ]
    }
   ],
   "source": [
    "def distance_driven_on_interstate(total_distance, in_town_speed, total_time):\n",
    "    in_town_distance = in_town_speed * total_time\n",
    "    interstate_distance = total_distance - in_town_distance\n",
    "    return interstate_distance\n",
    "print(distance_driven_on_interstate(225, 30, 3.5))"
   ]
  },
  {
   "cell_type": "markdown",
   "id": "71f98ecd",
   "metadata": {
    "chatgpt_cell": "query",
    "chatgpt_language": "python",
    "chatgpt_thread": ""
   },
   "source": [
    "##### chat\n",
    "\n",
    "In your reply, only return Python code. Don't provide descriptions or comments. If you generate a function, make sure you write the call to that function as well and print out the result of calling that function to the console. Write a Python program that solves:\n",
    "\n",
    "Eva drove to work at an average speed of 36 mph. On the way home, she hit traffic and only drove an average of 27 mph. Her total time in the car was 1 hour and 45 minutes, or 1.75 hours. How far does Eva live from work?"
   ]
  },
  {
   "cell_type": "markdown",
   "id": "a32f4847",
   "metadata": {},
   "source": [
    "##### response generated  by ChatGPT in 8 seconds at 1/4/2023 8:10:10 PM\n",
    "```python\n",
    "def distance_from_work(total_time, speed_to_work, speed_from_work):\n",
    "    distance_to_work = total_time * speed_to_work\n",
    "    distance_from_work = total_time * speed_from_work\n",
    "    return distance_to_work + distance_from_work\n",
    "print(distance_from_work(1.75, 36, 27))\n",
    "```"
   ]
  },
  {
   "cell_type": "code",
   "execution_count": 8,
   "id": "c1786883",
   "metadata": {
    "chatgpt_cell": "code",
    "chatgpt_language": "python",
    "chatgpt_thread": ""
   },
   "outputs": [
    {
     "name": "stdout",
     "output_type": "stream",
     "text": [
      "110.25\n"
     ]
    }
   ],
   "source": [
    "def distance_from_work(total_time, speed_to_work, speed_from_work):\n",
    "    distance_to_work = total_time * speed_to_work\n",
    "    distance_from_work = total_time * speed_from_work\n",
    "    return distance_to_work + distance_from_work\n",
    "print(distance_from_work(1.75, 36, 27))"
   ]
  },
  {
   "cell_type": "markdown",
   "id": "7de992e9",
   "metadata": {
    "chatgpt_cell": "query",
    "chatgpt_language": "python",
    "chatgpt_thread": ""
   },
   "source": [
    "##### chat\n",
    "\n",
    "In your reply, only return Python code. Don't provide descriptions or comments. If you generate a function, make sure you write the call to that function as well and print out the result of calling that function to the console. Write a Python program that solves:\n",
    "\n",
    "Determine the volume, in liters, occupied by 2.34 grams of carbon dioxide gas at STP."
   ]
  },
  {
   "cell_type": "markdown",
   "id": "8c7501ac",
   "metadata": {},
   "source": [
    "##### response generated  by ChatGPT in 7 seconds at 1/4/2023 8:20:33 PM\n",
    "```python\n",
    "def volume_of_gas(grams, gas):\n",
    "    molar_mass = 44.01 if gas == 'CO2' else 0\n",
    "    return (grams / molar_mass) * 22.4\n",
    "print(volume_of_gas(2.34, 'CO2'))\n",
    "```"
   ]
  },
  {
   "cell_type": "code",
   "execution_count": 1,
   "id": "e2c15f10",
   "metadata": {
    "chatgpt_cell": "code",
    "chatgpt_language": "python",
    "chatgpt_thread": ""
   },
   "outputs": [
    {
     "name": "stdout",
     "output_type": "stream",
     "text": [
      "1.191002044989775\n"
     ]
    }
   ],
   "source": [
    "def volume_of_gas(grams, gas):\n",
    "    molar_mass = 44.01 if gas == 'CO2' else 0\n",
    "    return (grams / molar_mass) * 22.4\n",
    "print(volume_of_gas(2.34, 'CO2'))"
   ]
  },
  {
   "cell_type": "markdown",
   "id": "65046c2b",
   "metadata": {},
   "source": [
    "##### response generated  by ChatGPT in 18 seconds at 1/4/2023 8:15:36 PM\n",
    "```python\n",
    "def volume_of_co2_at_stp(mass):\n",
    "    MOLAR_MASS_OF_CO2 = 44.01 # g/mol\n",
    "    NUMBER_OF_MOLECULES_IN_A_MOLE = 6.02214076e23 # molecules/mol\n",
    "    VOLUME_AT_STP = 22.4 # L/mol\n",
    "    moles = mass / MOLAR_MASS_OF_CO2\n",
    "    molecules = moles * NUMBER_OF_MOLECULES_IN_A_MOLE\n",
    "    volume = molecules * VOLUME_AT_STP / NUMBER_OF_MOLECULES_IN_A_MOLE\n",
    "    return volume\n",
    "print(volume_of_co2_at_stp(2.34))\n",
    "```"
   ]
  },
  {
   "cell_type": "code",
   "execution_count": 10,
   "id": "a42bf052",
   "metadata": {
    "chatgpt_cell": "code",
    "chatgpt_language": "python",
    "chatgpt_thread": ""
   },
   "outputs": [
    {
     "name": "stdout",
     "output_type": "stream",
     "text": [
      "1.1910020449897751\n"
     ]
    }
   ],
   "source": [
    "def volume_of_co2_at_stp(mass):\n",
    "    MOLAR_MASS_OF_CO2 = 44.01 # g/mol\n",
    "    NUMBER_OF_MOLECULES_IN_A_MOLE = 6.02214076e23 # molecules/mol\n",
    "    VOLUME_AT_STP = 22.4 # L/mol\n",
    "    moles = mass / MOLAR_MASS_OF_CO2\n",
    "    molecules = moles * NUMBER_OF_MOLECULES_IN_A_MOLE\n",
    "    volume = molecules * VOLUME_AT_STP / NUMBER_OF_MOLECULES_IN_A_MOLE\n",
    "    return volume\n",
    "print(volume_of_co2_at_stp(2.34))"
   ]
  },
  {
   "cell_type": "markdown",
   "id": "0414d50c",
   "metadata": {
    "chatgpt_cell": "query",
    "chatgpt_language": "python",
    "chatgpt_thread": ""
   },
   "source": [
    "##### chat\n",
    "\n",
    "This is a new question. In your reply, only return Python code. Don't provide descriptions or comments. If you generate a function, make sure you write the call to that function as well and print out the result of calling that function to the console. Write a Python program that solves:\n",
    "\n",
    "Determine the number of moles of argon and the mass of argon in a sample of argon gas at STP that occupies 56.2 liters. "
   ]
  },
  {
   "cell_type": "markdown",
   "id": "0bf03fe2",
   "metadata": {},
   "source": [
    "##### response generated  by ChatGPT in 5 seconds at 1/4/2023 8:20:16 PM\n",
    "```python\n",
    "def determine_area_of_circle(radius):\n",
    "    return math.pi * radius**2\n",
    "print(determine_area_of_circle(5))\n",
    "```"
   ]
  },
  {
   "cell_type": "code",
   "execution_count": null,
   "id": "5221af0f",
   "metadata": {
    "chatgpt_cell": "code",
    "chatgpt_language": "python",
    "chatgpt_thread": ""
   },
   "outputs": [],
   "source": [
    "def determine_area_of_circle(radius):\n",
    "    return math.pi * radius**2\n",
    "print(determine_area_of_circle(5))"
   ]
  },
  {
   "cell_type": "markdown",
   "id": "4eecca5a",
   "metadata": {
    "chatgpt_cell": "query",
    "chatgpt_language": "python",
    "chatgpt_thread": ""
   },
   "source": [
    "##### chat\n",
    "\n",
    "In your reply, only return Python code. Don't provide descriptions or comments. If you generate a function, make sure you write the call to that function as well and print out the result of calling that function to the console. Write a Python program that solves:\n",
    "\n",
    "A 30.6 g sample of gas occupies 22.414 L at STP. What is the molecular weight of this gas?"
   ]
  },
  {
   "cell_type": "markdown",
   "id": "0df88fe0",
   "metadata": {},
   "source": [
    "##### response generated  by ChatGPT in 20 seconds at 1/4/2023 8:22:59 PM\n",
    "```python\n",
    "def volume_of_co2_at_stp(mass):\n",
    "    MOLAR_MASS_OF_CO2 = 44.01 # g/mol\n",
    "    NUMBER_OF_MOLECULES_IN_A_MOLE = 6.02214076e23 # molecules/mol\n",
    "    AVOGADRO_CONSTANT = NUMBER_OF_MOLECULES_IN_A_MOLE # mol^-1\n",
    "    VOLUME_OF_STANDARD_TEMPERATURE_AND_PRESSURE = 22.4 # liters\n",
    "    moles_of_co2 = mass / MOLAR_MASS_OF_CO2\n",
    "    return moles_of_co2 * VOLUME_OF_STANDARD_TEMPERATURE_AND_PRESSURE * AVOGADRO_CONSTANT\n",
    "print(volume_of_co2_at_stp(2.34))\n",
    "```"
   ]
  },
  {
   "cell_type": "code",
   "execution_count": 2,
   "id": "8fb5da6a",
   "metadata": {
    "chatgpt_cell": "code",
    "chatgpt_language": "python",
    "chatgpt_thread": ""
   },
   "outputs": [
    {
     "name": "stdout",
     "output_type": "stream",
     "text": [
      "7.172381960376277e+23\n"
     ]
    }
   ],
   "source": [
    "def volume_of_co2_at_stp(mass):\n",
    "    MOLAR_MASS_OF_CO2 = 44.01 # g/mol\n",
    "    NUMBER_OF_MOLECULES_IN_A_MOLE = 6.02214076e23 # molecules/mol\n",
    "    AVOGADRO_CONSTANT = NUMBER_OF_MOLECULES_IN_A_MOLE # mol^-1\n",
    "    VOLUME_OF_STANDARD_TEMPERATURE_AND_PRESSURE = 22.4 # liters\n",
    "    moles_of_co2 = mass / MOLAR_MASS_OF_CO2\n",
    "    return moles_of_co2 * VOLUME_OF_STANDARD_TEMPERATURE_AND_PRESSURE * AVOGADRO_CONSTANT\n",
    "print(volume_of_co2_at_stp(2.34))"
   ]
  }
 ],
 "metadata": {
  "kernelspec": {
   "display_name": "Python (py310)",
   "language": "python",
   "name": "py310"
  },
  "language_info": {
   "codemirror_mode": {
    "name": "ipython",
    "version": 3
   },
   "file_extension": ".py",
   "mimetype": "text/x-python",
   "name": "python",
   "nbconvert_exporter": "python",
   "pygments_lexer": "ipython3",
   "version": "3.10.0"
  }
 },
 "nbformat": 4,
 "nbformat_minor": 5
}
