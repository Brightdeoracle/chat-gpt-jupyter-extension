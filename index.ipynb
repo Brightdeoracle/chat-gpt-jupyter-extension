{
 "cells": [
  {
   "cell_type": "markdown",
   "id": "f5599fe3",
   "metadata": {},
   "source": [
    "# This is a tile\n",
    "- one\n",
    "- two\n"
   ]
  },
  {
   "cell_type": "markdown",
   "id": "6144aff6",
   "metadata": {
    "chatgpt_cell": "query",
    "chatgpt_language": "python",
    "chatgpt_thread": ""
   },
   "source": [
    "##### chat\n",
    "write a python program that reads a local file called chips.csv into a pandas dataframe. please only return the code. i don't want explanations. i will tell you when i want explanations."
   ]
  },
  {
   "cell_type": "markdown",
   "id": "4ba230cc",
   "metadata": {},
   "source": [
    "##### response generated  by ChatGPT in 99 seconds at 12/14/2022 12:22:13 PM\n",
    "```python\n",
    "##### response: waiting for ChatGPT to respond...\n",
    "```"
   ]
  },
  {
   "cell_type": "code",
   "execution_count": null,
   "id": "f4f96d6e",
   "metadata": {
    "chatgpt_cell": "code",
    "chatgpt_language": "python",
    "chatgpt_thread": ""
   },
   "outputs": [],
   "source": [
    "##### response: waiting for ChatGPT to respond..."
   ]
  }
 ],
 "metadata": {
  "kernelspec": {
   "display_name": "Python (py310)",
   "language": "python",
   "name": "py310"
  },
  "language_info": {
   "codemirror_mode": {
    "name": "ipython",
    "version": 3
   },
   "file_extension": ".py",
   "mimetype": "text/x-python",
   "name": "python",
   "nbconvert_exporter": "python",
   "pygments_lexer": "ipython3",
   "version": "3.10.0"
  }
 },
 "nbformat": 4,
 "nbformat_minor": 5
}
